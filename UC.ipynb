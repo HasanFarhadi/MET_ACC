{
 "cells": [
  {
   "cell_type": "code",
   "execution_count": 1,
   "metadata": {},
   "outputs": [],
   "source": [
    "import numpy as np\n",
    "import pandas as pd\n",
    "import re"
   ]
  },
  {
   "cell_type": "code",
   "execution_count": 2,
   "metadata": {},
   "outputs": [],
   "source": [
    "def acc(table, verbose):\n",
    "    melodia_correct = 0\n",
    "    melodia_incorrect = 0\n",
    "    ritmo_correct = 0\n",
    "    ritmo_incorrect = 0\n",
    "    incorrect_files = []\n",
    "    #table.iloc[:, 39]:  Response (AN)\n",
    "    #table.iloc[:, 49]:  Display (AX)\n",
    "    #table.iloc[:, 50]:  Desired Answers (AY)\n",
    "    #table.iloc[:, 52]:  Melodia File Name (BA)\n",
    "    #table.iloc[:, 55]:  Ritmo File Name (BD)\n",
    "    #table.iloc[:, 36]:  Reaction Time (AK)\n",
    "    #table.iloc[:, 34]:  Zone Name (AI)\n",
    "\n",
    "    for idx in range(len(table)):\n",
    "    \n",
    "        if table.iloc[idx, 39] == 'بله':\n",
    "\n",
    "            if table.iloc[idx, 50] == 'Yes':\n",
    "\n",
    "                if table.iloc[idx, 49] == 'Melodia':\n",
    "\n",
    "                    melodia_correct = melodia_correct + 1\n",
    "            \n",
    "                if table.iloc[idx, 49] == 'Ritmo':\n",
    "\n",
    "                    ritmo_correct = ritmo_correct +1\n",
    "        \n",
    "\n",
    "            if table.iloc[idx, 50] == 'No':\n",
    "\n",
    "                if table.iloc[idx, 49] == 'Melodia':\n",
    "\n",
    "                    melodia_incorrect = melodia_incorrect + 1\n",
    "                    incorrect_files.append(table.iloc[idx, 52])\n",
    "\n",
    "                if table.iloc[idx, 49] == 'Ritmo':\n",
    "\n",
    "                    ritmo_incorrect = ritmo_incorrect + 1\n",
    "                    incorrect_files.append(table.iloc[idx, 55])\n",
    "    \n",
    "        if table.iloc[idx, 39] == 'خیر' or table.iloc[idx, 39] == 'نه':\n",
    "\n",
    "            if table.iloc[idx, 50] == 'No':\n",
    "\n",
    "                if table.iloc[idx, 49] == 'Melodia':\n",
    "\n",
    "                    melodia_correct = melodia_correct + 1\n",
    "\n",
    "                if table.iloc[idx, 49] == 'Ritmo':\n",
    "\n",
    "                  ritmo_correct = ritmo_correct + 1\n",
    "        \n",
    "            if table.iloc[idx, 50] == 'Yes':\n",
    "\n",
    "                if table.iloc[idx, 49] == 'Melodia':\n",
    "\n",
    "                    melodia_incorrect = melodia_incorrect + 1\n",
    "                    incorrect_files.append(table.iloc[idx, 52])\n",
    "            \n",
    "                if table.iloc[idx, 49] == 'Ritmo':\n",
    "\n",
    "                    ritmo_incorrect = ritmo_incorrect +1\n",
    "                    incorrect_files.append(table.iloc[idx, 55])\n",
    "        \n",
    "\n",
    "    ritm_acc = 100 * ritmo_correct / (ritmo_correct + ritmo_incorrect)\n",
    "    mel_acc = 100 * melodia_correct / (melodia_correct + melodia_incorrect)\n",
    "    acc = 0.5 * (ritm_acc + mel_acc)\n",
    "\n",
    "    if verbose:\n",
    "        print(f\"correct instances of Ritmo: {ritmo_correct}\")\n",
    "        print(f\"incorrect instances of Ritmo: {ritmo_incorrect}\")\n",
    "        print(f\"correct instances of Melodia: {melodia_correct}\")\n",
    "        print(f\"incorrect instances of Melodia: {melodia_incorrect}\")\n",
    "        print('----------------------')\n",
    "        print(f\"Ritmo accuracy: {ritm_acc}%\")\n",
    "        print(f\"Melodia accuracy: {mel_acc}%\")\n",
    "        print(f\"overall accuracy: {acc}%\")\n",
    "        #print(f\"average reaction time: {str(react / zone_count)}\")\n",
    "\n",
    "    return incorrect_files\n"
   ]
  },
  {
   "cell_type": "code",
   "execution_count": 3,
   "metadata": {},
   "outputs": [],
   "source": [
    "def Reaction_Time(table, verbose):\n",
    "    table = np.array(table)\n",
    "    zone_count = 0\n",
    "    react = 0\n",
    "    for idx in range(len(table)):\n",
    "        if table[idx, 34] == 'Zone2':\n",
    "            react = react + float(table[idx, 36])\n",
    "            zone_count = zone_count + 1\n",
    "    react = react / zone_count\n",
    "    if verbose:\n",
    "        print(f\"average reaction time: {int(react)} milliseconds\")\n",
    "    return react"
   ]
  },
  {
   "cell_type": "code",
   "execution_count": 4,
   "metadata": {},
   "outputs": [],
   "source": [
    "def Main(table, verbose = True):\n",
    "    incorrect_files = acc(table, verbose)\n",
    "    react = Reaction_Time(table, verbose)\n",
    "    return incorrect_files, react\n",
    "    "
   ]
  },
  {
   "cell_type": "code",
   "execution_count": 5,
   "metadata": {},
   "outputs": [
    {
     "name": "stdout",
     "output_type": "stream",
     "text": [
      "correct instances of Ritmo: 32\n",
      "incorrect instances of Ritmo: 17\n",
      "correct instances of Melodia: 24\n",
      "incorrect instances of Melodia: 23\n",
      "----------------------\n",
      "Ritmo accuracy: 65.3061224489796%\n",
      "Melodia accuracy: 51.06382978723404%\n",
      "overall accuracy: 58.18497611810682%\n",
      "average reaction time: 1027 milliseconds\n"
     ]
    }
   ],
   "source": [
    "table = pd.read_csv(r\"New folder\\15.csv\", encoding='utf-8', header=None)\n",
    "#lmao.head()\n",
    "incorrect_files, react = Main(table)"
   ]
  },
  {
   "cell_type": "code",
   "execution_count": 6,
   "metadata": {},
   "outputs": [
    {
     "data": {
      "text/plain": [
       "['25a.wav',\n",
       " '26a.wav',\n",
       " '28a.wav',\n",
       " '29a.wav',\n",
       " '33a.wav',\n",
       " '34a.wav',\n",
       " '43a.wav',\n",
       " '44a.wav',\n",
       " '45a.wav',\n",
       " '46a.wav']"
      ]
     },
     "execution_count": 6,
     "metadata": {},
     "output_type": "execute_result"
    }
   ],
   "source": [
    "incorrect_files[10:20]"
   ]
  }
 ],
 "metadata": {
  "kernelspec": {
   "display_name": "base",
   "language": "python",
   "name": "python3"
  },
  "language_info": {
   "codemirror_mode": {
    "name": "ipython",
    "version": 3
   },
   "file_extension": ".py",
   "mimetype": "text/x-python",
   "name": "python",
   "nbconvert_exporter": "python",
   "pygments_lexer": "ipython3",
   "version": "3.10.9"
  },
  "orig_nbformat": 4
 },
 "nbformat": 4,
 "nbformat_minor": 2
}
